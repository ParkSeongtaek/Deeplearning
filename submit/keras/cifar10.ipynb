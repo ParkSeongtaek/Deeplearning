{
 "cells": [
  {
   "cell_type": "code",
   "execution_count": null,
   "metadata": {},
   "outputs": [],
   "source": [
    "import numpy as np\n",
    "import tensorflow as tf\n",
    "from keras.utils import np_utils\n",
    "import pickle\n",
    "import matplotlib.pyplot as plt\n",
    "\n"
   ]
  },
  {
   "cell_type": "code",
   "execution_count": null,
   "metadata": {},
   "outputs": [],
   "source": [
    "# cifar10 data 를 가져오는 부분. 50000개의 test data와 10000개의 test data로 이루어져 있다.\n",
    "# 각 사진은 32*32 픽셀로 rgb 3개의 값을 \n",
    "from keras.datasets import cifar10\n",
    "(x_train, t_train), (x_test, t_test) = cifar10.load_data()"
   ]
  },
  {
   "cell_type": "code",
   "execution_count": null,
   "metadata": {},
   "outputs": [],
   "source": [
    "x_train = x_train.astype(np.float64)\n",
    "x_test = x_test.astype(np.float64)\n",
    "\n",
    "# 0~255 unsigned int 로 구성되어 있는 데이터를 float 로 바꾼 후 255 로 나눠주어 0~1 사이로 바꿔준다. \n",
    "for i in range(3):\n",
    "    x_train[:,:,:,i] = x_train[:,:,:,i] / 255\n",
    "    x_test[:,:,:,i] = x_test[:,:,:,i] / 255\n"
   ]
  },
  {
   "cell_type": "code",
   "execution_count": null,
   "metadata": {},
   "outputs": [],
   "source": [
    "class_num = 10\n",
    "\n",
    "#하이퍼 파라미터\n",
    "iters_num = 10000 \n",
    "max_epoch = 20\n",
    "batch_size = 400  \n",
    "learning_rate = 0.01\n",
    "RGB =3\n",
    "PIXEL = 32\n",
    "HIDDEN_SIZE =50\n",
    "OUTPUT_SIZE = 10\n",
    "\n",
    "# one hot encoding 방식으로 변경\n",
    "t_train = np_utils.to_categorical(t_train, class_num)\n",
    "t_test = np_utils.to_categorical(t_test, class_num)\n"
   ]
  },
  {
   "cell_type": "code",
   "execution_count": null,
   "metadata": {},
   "outputs": [],
   "source": [
    "from keras.models import Sequential\n",
    "from keras.layers import Conv2D,Dense,Flatten,MaxPool2D\n",
    "\n",
    "model = Sequential()\n",
    "train_acc = []\n",
    "test_acc = []\n",
    "\n",
    "#layer 1 con pool\n",
    "model.add(Conv2D(filters=64, kernel_size=3, strides=1, activation='relu'))\n",
    "model.add(MaxPool2D(pool_size=(2, 2)))\n",
    "\n",
    "\n",
    "#layer 2 flatten dense(완전 연결 계층)\n",
    "model.add(Flatten())\n",
    "model.add(Dense(units=128, activation='relu'))\n",
    "#layer 3 dense\n",
    "model.add(Dense(units=128, activation='relu'))\n",
    "#layer 4 dense\n",
    "model.add(Dense(units=128, activation='relu'))\n",
    "\n",
    "#layer5  출력층\n",
    "model.add(Dense(class_num, activation='softmax'))\n",
    "\n",
    "#model compile 설정\n",
    "model.compile(optimizer='adam', loss='categorical_crossentropy', metrics=['accuracy'])\n",
    "\n",
    "#학습\n",
    "hist = model.fit(x_train, t_train, batch_size=batch_size, epochs=max_epoch, shuffle=True,validation_data=(x_test, t_test),verbose=1)\n",
    "eval = model.evaluate(x_test, t_test, batch_size=batch_size)\n",
    "\n",
    "# 학습 경과를 pickle 로 저장하기 위한 부분\n",
    "train_acc.append(hist.history['accuracy'])\n",
    "test_acc.append(hist.history['val_accuracy'])\n",
    "\n",
    "\n",
    "title = 'keras_CNN_ReLU__iters_num={}__batchSize_{}__learning_rate_{}__HIDDEN_SIZE ={}'.format(iters_num,batch_size,learning_rate,HIDDEN_SIZE)\n",
    "\n",
    "\n",
    "train_acc_list_title = 'train_acc_list_' + title +'.pickle'\n",
    "test_acc_list_title = 'test_acc_list+' + title +'.pickle'\n",
    "\n",
    "with open('history.pickle' , 'wb') as fw:\n",
    "    pickle.dump(hist, fw)\n",
    "\n",
    "# save\n",
    "with open(train_acc_list_title , 'wb') as fw:\n",
    "    pickle.dump(train_acc, fw)\n",
    "    \n",
    "# save\n",
    "with open(test_acc_list_title, 'wb') as fw:\n",
    "    pickle.dump(test_acc, fw)\n",
    "\n",
    "\n"
   ]
  },
  {
   "cell_type": "code",
   "execution_count": null,
   "metadata": {},
   "outputs": [],
   "source": []
  }
 ],
 "metadata": {
  "kernelspec": {
   "display_name": "Python 3.9.5 ('tensorflow')",
   "language": "python",
   "name": "python3"
  },
  "language_info": {
   "codemirror_mode": {
    "name": "ipython",
    "version": 3
   },
   "file_extension": ".py",
   "mimetype": "text/x-python",
   "name": "python",
   "nbconvert_exporter": "python",
   "pygments_lexer": "ipython3",
   "version": "3.9.5"
  },
  "orig_nbformat": 4,
  "vscode": {
   "interpreter": {
    "hash": "71fc03a5f38bd6c1a140752aa384322ddee0bb90e120551c7c7869467ae2169c"
   }
  }
 },
 "nbformat": 4,
 "nbformat_minor": 2
}
