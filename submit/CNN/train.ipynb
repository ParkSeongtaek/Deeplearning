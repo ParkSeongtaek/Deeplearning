{
 "cells": [
  {
   "cell_type": "code",
   "execution_count": null,
   "metadata": {},
   "outputs": [],
   "source": [
    "\n",
    "import numpy as np\n",
    "import pandas as pd\n",
    "import matplotlib.pyplot as plt\n",
    "from simple_convnet import SimpleConvNet\n",
    "from common.trainer import Trainer\n",
    "import pickle\n",
    "# 하이퍼파라미터\n",
    "iters_num = 10000 # 반복 횟수를 적절히 설정한다.\n",
    "train_size = 40000  # 40000장은 train 10000장은 test\n",
    "batch_size = 400  \n",
    "learning_rate = 0.01\n",
    "RGB =3\n",
    "PIxEL = 32\n",
    "HIDDEN_SIZE =50\n",
    "OUTPUT_SIZE = 10\n",
    "\n",
    "title = 'CNN_ReLU__iters_num={}__batchSize_{}__learning_rate_{}__HIDDEN_SIZE ={}'.format(iters_num,batch_size,learning_rate,HIDDEN_SIZE)\n",
    "\n",
    "pickle_name = \"CIRFAR_10_CNN_32.pickle\"\n",
    "# 데이터 읽기 data = [50000, 2] one hot encoding 되어 있음 (data, label)\n",
    "with open(pickle_name,\"rb\") as fr:\n",
    "    data = pickle.load(fr)\n",
    "# 무작위로 섞는 부분\n",
    "data = pd.DataFrame(data)\n",
    "data = data.sample(frac=1, replace=False)\n",
    "# 다시 numpy 로 만들어준다.\n",
    "data = data.to_numpy()\n",
    "# label 과 data를 분리\n",
    "label = [x[1] for x in data]\n",
    "data = [x[0] for x in data]\n",
    "# normalize 하는 부분\n",
    "data = np.array(data, dtype='float64')\n",
    "label = np.array(label)\n",
    "x_train = data[:train_size]\n",
    "t_train = label[:train_size]\n",
    "x_test = data[train_size:]\n",
    "t_test = label[train_size:]\n"
   ]
  },
  {
   "cell_type": "code",
   "execution_count": null,
   "metadata": {},
   "outputs": [],
   "source": [
    "\n",
    "max_epochs = 20\n",
    "\n",
    "network = SimpleConvNet(input_dim=(3,32,32), \n",
    "                        conv_param = {'filter_num': 30, 'filter_size': 5, 'pad': 0, 'stride': 1},\n",
    "                        hidden_size=100, output_size=10, weight_init_std=0.01)\n",
    "                        \n",
    "trainer = Trainer(network, x_train, t_train, x_test, t_test,\n",
    "                  epochs=max_epochs, mini_batch_size=100,\n",
    "                  optimizer='Adam', optimizer_param={'lr': 0.001},\n",
    "                  evaluate_sample_num_per_epoch=1000)\n",
    "trainer.train()\n",
    "\n",
    "# 매개변수 보존\n",
    "network.save_params(\"params.pkl\")\n",
    "print(\"Saved Network Parameters!\")\n",
    "\n",
    "# 그래프 그리기\n",
    "markers = {'train': 'o', 'test': 's'}\n",
    "x = np.arange(max_epochs)\n",
    "\n",
    "# 피클로 저장\n",
    "train_acc_list_title = 'train_acc_list' + title +'.pickle'\n",
    "test_acc_list_title = 'test_acc_list' + title +'.pickle'\n",
    "# save\n",
    "with open(train_acc_list_title , 'wb') as fw:\n",
    "    pickle.dump(trainer.train_acc_list, fw)\n",
    "    \n",
    "\n",
    "# save\n",
    "with open(test_acc_list_title, 'wb') as fw:\n",
    "    pickle.dump(trainer.test_acc_list, fw)\n",
    "    \n",
    "#ploting 하기\n",
    "plt.plot(x, trainer.train_acc_list, marker='o', label='train', markevery=2)\n",
    "plt.plot(x, trainer.test_acc_list, marker='s', label='test', markevery=2)\n",
    "plt.xlabel(\"epochs\")\n",
    "plt.ylabel(\"accuracy\")\n",
    "plt.ylim(0, 1.0)\n",
    "plt.legend(loc='lower right')\n",
    "plt.show()"
   ]
  }
 ],
 "metadata": {
  "kernelspec": {
   "display_name": "Python 3.9.5 ('tensorflow')",
   "language": "python",
   "name": "python3"
  },
  "language_info": {
   "codemirror_mode": {
    "name": "ipython",
    "version": 3
   },
   "file_extension": ".py",
   "mimetype": "text/x-python",
   "name": "python",
   "nbconvert_exporter": "python",
   "pygments_lexer": "ipython3",
   "version": "3.9.5"
  },
  "orig_nbformat": 4,
  "vscode": {
   "interpreter": {
    "hash": "71fc03a5f38bd6c1a140752aa384322ddee0bb90e120551c7c7869467ae2169c"
   }
  }
 },
 "nbformat": 4,
 "nbformat_minor": 2
}
